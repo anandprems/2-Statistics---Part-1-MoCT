{
 "cells": [
  {
   "cell_type": "code",
   "execution_count": 2,
   "metadata": {
    "id": "TK1lYI3zgLBI"
   },
   "outputs": [],
   "source": [
    "#importing libraries\n",
    "import statistics"
   ]
  },
  {
   "cell_type": "code",
   "execution_count": 3,
   "metadata": {
    "colab": {
     "base_uri": "https://localhost:8080/"
    },
    "id": "jXZmWSXRgsZa",
    "outputId": "1cf61550-3937-4a75-fa0d-1516e405ee98"
   },
   "outputs": [
    {
     "data": {
      "text/plain": [
       "(23, 21, 18, 16, 15, 13, 12, 10, 9, 7, 6, 5, 2)"
      ]
     },
     "execution_count": 3,
     "metadata": {
      "tags": []
     },
     "output_type": "execute_result"
    }
   ],
   "source": [
    "#odd no of values\n",
    "a = 23, 21, 18, 16, 15, 13, 12, 10, 9, 7, 6, 5, 2\n",
    "a"
   ]
  },
  {
   "cell_type": "code",
   "execution_count": 5,
   "metadata": {
    "colab": {
     "base_uri": "https://localhost:8080/"
    },
    "id": "Q_jZ0lRCgzLx",
    "outputId": "e26acd0d-a542-476a-dca0-d8e8809ec85e"
   },
   "outputs": [
    {
     "data": {
      "text/plain": [
       "12"
      ]
     },
     "execution_count": 5,
     "metadata": {
      "tags": []
     },
     "output_type": "execute_result"
    }
   ],
   "source": [
    "med_odd = statistics.median(a)\n",
    "med_odd"
   ]
  },
  {
   "cell_type": "code",
   "execution_count": 6,
   "metadata": {
    "colab": {
     "base_uri": "https://localhost:8080/"
    },
    "id": "X5_d9eWKhAWp",
    "outputId": "de3c6409-16b5-4842-be63-bb3a40fd3a31"
   },
   "outputs": [
    {
     "data": {
      "text/plain": [
       "(40, 38, 35, 33, 32, 30, 29, 27, 26, 24, 23, 22, 19, 17)"
      ]
     },
     "execution_count": 6,
     "metadata": {
      "tags": []
     },
     "output_type": "execute_result"
    }
   ],
   "source": [
    "#even no of values\n",
    "b = 40, 38, 35, 33, 32, 30, 29, 27, 26, 24, 23, 22, 19, 17\n",
    "b"
   ]
  },
  {
   "cell_type": "code",
   "execution_count": 7,
   "metadata": {
    "colab": {
     "base_uri": "https://localhost:8080/"
    },
    "id": "bD2D20EhhQ0K",
    "outputId": "89fb1a11-395a-4d60-a355-6c1e9ac00a79"
   },
   "outputs": [
    {
     "data": {
      "text/plain": [
       "28.0"
      ]
     },
     "execution_count": 7,
     "metadata": {
      "tags": []
     },
     "output_type": "execute_result"
    }
   ],
   "source": [
    "med_even = statistics.median(b)\n",
    "med_even\n",
    "#(29+27)/2"
   ]
  },
  {
   "cell_type": "code",
   "execution_count": 8,
   "metadata": {
    "id": "TCURKiGhhigJ"
   },
   "outputs": [],
   "source": [
    "#importance of median over mean in outliers\n",
    "c = 1,2,3,4,5"
   ]
  },
  {
   "cell_type": "code",
   "execution_count": 9,
   "metadata": {
    "colab": {
     "base_uri": "https://localhost:8080/"
    },
    "id": "Nub4R2Yuh6iT",
    "outputId": "b3791d1c-fa6f-448e-b640-37ed7073e755"
   },
   "outputs": [
    {
     "data": {
      "text/plain": [
       "3.0"
      ]
     },
     "execution_count": 9,
     "metadata": {
      "tags": []
     },
     "output_type": "execute_result"
    }
   ],
   "source": [
    "import numpy as np\n",
    "mean = np.mean(c)\n",
    "mean"
   ]
  },
  {
   "cell_type": "code",
   "execution_count": 10,
   "metadata": {
    "colab": {
     "base_uri": "https://localhost:8080/"
    },
    "id": "j7X9_yiAiKhb",
    "outputId": "6a4483ff-1b07-4b06-d8d5-a4cb7413b3b4"
   },
   "outputs": [
    {
     "data": {
      "text/plain": [
       "3"
      ]
     },
     "execution_count": 10,
     "metadata": {
      "tags": []
     },
     "output_type": "execute_result"
    }
   ],
   "source": [
    "median = statistics.median(c)\n",
    "median"
   ]
  },
  {
   "cell_type": "code",
   "execution_count": 11,
   "metadata": {
    "id": "IU9iWhLWiOY0"
   },
   "outputs": [],
   "source": [
    "#if outliers added to the above data\n",
    "d = 1,2,3,4,5,80"
   ]
  },
  {
   "cell_type": "code",
   "execution_count": 12,
   "metadata": {
    "colab": {
     "base_uri": "https://localhost:8080/"
    },
    "id": "LkqwNAQuiXw8",
    "outputId": "6b656c1c-bd31-46e6-beed-25090fb02ff3"
   },
   "outputs": [
    {
     "data": {
      "text/plain": [
       "15.833333333333334"
      ]
     },
     "execution_count": 12,
     "metadata": {
      "tags": []
     },
     "output_type": "execute_result"
    }
   ],
   "source": [
    "mean_o = np.mean(d)\n",
    "mean_o"
   ]
  },
  {
   "cell_type": "code",
   "execution_count": 13,
   "metadata": {
    "colab": {
     "base_uri": "https://localhost:8080/"
    },
    "id": "SJynmxO3ilec",
    "outputId": "3f2eb95b-e60d-447e-d286-7eddaf1b102e"
   },
   "outputs": [
    {
     "data": {
      "text/plain": [
       "3.5"
      ]
     },
     "execution_count": 13,
     "metadata": {
      "tags": []
     },
     "output_type": "execute_result"
    }
   ],
   "source": [
    "median_o = statistics.median(d)\n",
    "median_o"
   ]
  }
 ],
 "metadata": {
  "colab": {
   "name": "2 Median.ipynb",
   "provenance": []
  },
  "kernelspec": {
   "display_name": "Python 3",
   "language": "python",
   "name": "python3"
  },
  "language_info": {
   "codemirror_mode": {
    "name": "ipython",
    "version": 3
   },
   "file_extension": ".py",
   "mimetype": "text/x-python",
   "name": "python",
   "nbconvert_exporter": "python",
   "pygments_lexer": "ipython3",
   "version": "3.8.3"
  }
 },
 "nbformat": 4,
 "nbformat_minor": 1
}
