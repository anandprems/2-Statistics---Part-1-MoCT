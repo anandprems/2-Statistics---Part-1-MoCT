{
 "cells": [
  {
   "cell_type": "markdown",
   "metadata": {
    "id": "iyonMUkto7mA"
   },
   "source": [
    "**Population and Sample**\n",
    "1. Population - Overall observations\n",
    "2. Sample - Subset of population, describes the population in such a way to interpretat it "
   ]
  },
  {
   "cell_type": "code",
   "execution_count": null,
   "metadata": {
    "colab": {
     "base_uri": "https://localhost:8080/"
    },
    "id": "KqYKqDWCphx6",
    "outputId": "89ba256e-4b4c-4ca7-df0b-0ebca7c4c519"
   },
   "outputs": [
    {
     "name": "stdout",
     "output_type": "stream",
     "text": [
      "[14 14 12 17 17 12 14 16 14 12 14 16 10 14 16 14 15 10 14 13 11 12 18 16\n",
      " 18 12 18 19 14 10 15 13 13 19 13 10 18 16 10 12 19 10 17 19 11 14 10 14\n",
      " 19 12]\n"
     ]
    }
   ],
   "source": [
    "#creating overall population\n",
    "population = np.random.randint(10,20,50)\n",
    "print(population)"
   ]
  },
  {
   "cell_type": "code",
   "execution_count": null,
   "metadata": {
    "colab": {
     "base_uri": "https://localhost:8080/"
    },
    "id": "gASUKWBLo_Bz",
    "outputId": "0277281b-d581-437d-a954-62df09815531"
   },
   "outputs": [
    {
     "name": "stdout",
     "output_type": "stream",
     "text": [
      "Central tendency of population\n",
      "mean of population 14.2\n",
      "median of population 14.0\n",
      "mode for population 14\n"
     ]
    }
   ],
   "source": [
    "print('Central tendency of population')\n",
    "#mean of population\n",
    "print('mean of population', np.mean(population))  \n",
    "#median of population\n",
    "print('median of population',np.median(population))\n",
    "#mode for population\n",
    "print('mode for population', mode(population))"
   ]
  },
  {
   "cell_type": "code",
   "execution_count": null,
   "metadata": {
    "colab": {
     "base_uri": "https://localhost:8080/"
    },
    "id": "ZdVuSVvasjfL",
    "outputId": "15ca2d99-6b4d-4058-a345-6184586103a1"
   },
   "outputs": [
    {
     "data": {
      "text/plain": [
       "[15.333333333333334, 13.666666666666666, 14.555555555555555]"
      ]
     },
     "execution_count": 12,
     "metadata": {
      "tags": []
     },
     "output_type": "execute_result"
    }
   ],
   "source": [
    "s1 = np.random.choice(population, 9) # sample1\n",
    "s2 = np.random.choice(population, 9) # sample2 \n",
    "s3 = np.random.choice(population, 9) # sample3\n",
    "\n",
    "s4 = [s1, s2, s3]\n",
    "sample_mean = []\n",
    "for i in s4:\n",
    "  sample_mean.append(np.mean(i))\n",
    "\n",
    "sample_mean"
   ]
  },
  {
   "cell_type": "code",
   "execution_count": null,
   "metadata": {
    "colab": {
     "base_uri": "https://localhost:8080/"
    },
    "id": "iWzRBE2KtrBj",
    "outputId": "8c0e28d3-f303-4294-de55-50a44f9fc0d9"
   },
   "outputs": [
    {
     "name": "stdout",
     "output_type": "stream",
     "text": [
      "samples 14.518518518518519\n",
      "population 14.2\n"
     ]
    }
   ],
   "source": [
    "#relation between population and sample\n",
    "print('samples', np.mean(sample_mean))\n",
    "print('population', np.mean(population))"
   ]
  }
 ],
 "metadata": {
  "colab": {
   "name": "4 Population_Sample.ipynb",
   "provenance": []
  },
  "kernelspec": {
   "display_name": "Python 3",
   "language": "python",
   "name": "python3"
  },
  "language_info": {
   "codemirror_mode": {
    "name": "ipython",
    "version": 3
   },
   "file_extension": ".py",
   "mimetype": "text/x-python",
   "name": "python",
   "nbconvert_exporter": "python",
   "pygments_lexer": "ipython3",
   "version": "3.8.3"
  }
 },
 "nbformat": 4,
 "nbformat_minor": 1
}
